{
 "cells": [
  {
   "cell_type": "code",
   "execution_count": 3,
   "metadata": {},
   "outputs": [
    {
     "data": {
      "text/plain": [
       "(math)"
      ]
     },
     "execution_count": 3,
     "metadata": {},
     "output_type": "execute_result"
    }
   ],
   "source": [
    "(import \"math\")"
   ]
  },
  {
   "cell_type": "code",
   "execution_count": 2,
   "metadata": {},
   "outputs": [],
   "source": [
    "(define (identity x) x)\n",
    "\n",
    "(define (inc x)\n",
    "  (+ x 1))\n",
    "\n",
    "(define (cube x)\n",
    "  (* x x x))\n",
    "\n",
    "(define (sum term a next b)\n",
    "  (if (> a b)\n",
    "      0\n",
    "      (+ (term a)\n",
    "         (sum term (next a) next b))))"
   ]
  },
  {
   "cell_type": "markdown",
   "metadata": {},
   "source": [
    "### Exercise 1.29\n",
    "Redefine integral using simpson's rule."
   ]
  },
  {
   "cell_type": "code",
   "execution_count": 3,
   "metadata": {},
   "outputs": [],
   "source": [
    "(define (simpson-integral f a b n)\n",
    "  (define h\n",
    "    (/ (- b a) n))\n",
    "  (define (y k)\n",
    "    (f (+ a (* k h))))\n",
    "  (define (term x)\n",
    "    (cond \n",
    "     ((or (= x 0) (= x n)) (y x))\n",
    "     ((= (% x 2) 1) (* 4 (y x)))\n",
    "     ((= (% x 2) 0) (* 2 (y x)))))\n",
    "  (* (/ h 3) (sum term 0 inc n)))"
   ]
  },
  {
   "cell_type": "code",
   "execution_count": 4,
   "metadata": {},
   "outputs": [
    {
     "data": {
      "text/plain": [
       "1/4"
      ]
     },
     "execution_count": 4,
     "metadata": {},
     "output_type": "execute_result"
    }
   ],
   "source": [
    "(simpson-integral cube 0 1 1000)"
   ]
  },
  {
   "cell_type": "markdown",
   "metadata": {},
   "source": [
    "### Exercise 1.30\n",
    "Define sum performing as iterative procedure"
   ]
  },
  {
   "cell_type": "code",
   "execution_count": 5,
   "metadata": {},
   "outputs": [],
   "source": [
    "(define (sum-iterative term a next b)\n",
    "  (define (iter a result)\n",
    "    (if (> a b)\n",
    "        result\n",
    "        (iter (next a) (+ (term a) result))))\n",
    "  (iter a 0))"
   ]
  },
  {
   "cell_type": "code",
   "execution_count": 6,
   "metadata": {},
   "outputs": [
    {
     "data": {
      "text/plain": [
       "15"
      ]
     },
     "execution_count": 6,
     "metadata": {},
     "output_type": "execute_result"
    }
   ],
   "source": [
    "(define (sum-integers a b)\n",
    "  (sum-iterative identity a inc b))\n",
    "\n",
    "(sum-integers 1 5)"
   ]
  },
  {
   "cell_type": "code",
   "execution_count": 7,
   "metadata": {},
   "outputs": [
    {
     "data": {
      "text/plain": [
       "36"
      ]
     },
     "execution_count": 7,
     "metadata": {},
     "output_type": "execute_result"
    }
   ],
   "source": [
    "(define (sum-cubes a b)\n",
    "  (sum-iterative cube a inc b))\n",
    "\n",
    "(sum-cubes 1 3)"
   ]
  },
  {
   "cell_type": "markdown",
   "metadata": {},
   "source": [
    "### Exercise 1.31\n",
    "a. write an analogous procedure called product that return the *product* of the values of a function at points over a given range. Show how to define factorial in terms of *product*. \n",
    "Also use *product* to compute approximations to pi usin the formula  \n",
    "\n",
    "$\\frac{\\pi}{4} = \\frac{2\\cdot 4\\cdot 4\\cdot 6 \\cdot 6 \\cdot 8\\cdot\\cdot\\cdot}{3\\cdot 3\\cdot 5\\cdot 5 \\cdot 7 \\cdot 7\\cdot\\cdot\\cdot}$\n"
   ]
  },
  {
   "cell_type": "code",
   "execution_count": 8,
   "metadata": {},
   "outputs": [
    {
     "data": {
      "text/plain": [
       "120"
      ]
     },
     "execution_count": 8,
     "metadata": {},
     "output_type": "execute_result"
    }
   ],
   "source": [
    "(define (product term a next b)\n",
    "  (define (iter a result)\n",
    "    (if (> a b)\n",
    "        result\n",
    "        (iter (next a) (* (term a) result))))\n",
    "  (iter a 1))\n",
    "\n",
    "(define (multiply-integers a b)\n",
    "  (product * a inc b))\n",
    "\n",
    "(multiply-integers 1 5)"
   ]
  },
  {
   "cell_type": "code",
   "execution_count": 9,
   "metadata": {},
   "outputs": [
    {
     "data": {
      "text/plain": [
       "120"
      ]
     },
     "execution_count": 9,
     "metadata": {},
     "output_type": "execute_result"
    }
   ],
   "source": [
    "(define (factorial x)\n",
    "  (product * 1 inc x))\n",
    "\n",
    "(factorial 5)"
   ]
  },
  {
   "cell_type": "code",
   "execution_count": 10,
   "metadata": {},
   "outputs": [],
   "source": [
    "(define (approx-pi n)\n",
    "  (define (term x)\n",
    "    (/ (* 2 (+ (// x 2) 1)) (+ 1 (* 2 (+ 1 (// (- x 1) 2))))))\n",
    "  (* 4.0\n",
    "     (product term 1 inc n)))"
   ]
  },
  {
   "cell_type": "code",
   "execution_count": 11,
   "metadata": {},
   "outputs": [
    {
     "data": {
      "text/plain": [
       "3.1910574333896466"
      ]
     },
     "execution_count": 11,
     "metadata": {},
     "output_type": "execute_result"
    }
   ],
   "source": [
    "(approx-pi 30)"
   ]
  },
  {
   "cell_type": "markdown",
   "metadata": {},
   "source": [
    "b. write recursive process version of *product*."
   ]
  },
  {
   "cell_type": "code",
   "execution_count": 12,
   "metadata": {},
   "outputs": [],
   "source": [
    "(define (product-recursive term a next b)\n",
    "  (if (> a b)\n",
    "      1\n",
    "      (* (term a)\n",
    "         (product-recursive term (next a) next b))))"
   ]
  },
  {
   "cell_type": "code",
   "execution_count": 13,
   "metadata": {},
   "outputs": [],
   "source": [
    "(define (approx-pi-recursive n)\n",
    "  (define (term x)\n",
    "    (/ (* 2 (+ (// x 2) 1)) (+ 1 (* 2 (+ 1 (// (- x 1) 2))))))\n",
    "  (* 4.0\n",
    "     (product-recursive term 1 inc n)))"
   ]
  },
  {
   "cell_type": "code",
   "execution_count": 14,
   "metadata": {},
   "outputs": [
    {
     "data": {
      "text/plain": [
       "3.1910574333896466"
      ]
     },
     "execution_count": 14,
     "metadata": {},
     "output_type": "execute_result"
    }
   ],
   "source": [
    "(approx-pi-recursive 30)"
   ]
  },
  {
   "cell_type": "markdown",
   "metadata": {},
   "source": [
    "### Exercise 1.32\n",
    "a. write *accumulate* function\n",
    "b. write recursive and iterative of it"
   ]
  },
  {
   "cell_type": "code",
   "execution_count": 15,
   "metadata": {},
   "outputs": [],
   "source": [
    "(define (accumulate-recursive combiner null-value term a next b)\n",
    "  (if (> a b)\n",
    "      null-value\n",
    "      (combiner (term a)\n",
    "                (accumulate-recursive combiner null-value term (next a) next b))))\n",
    "\n",
    "(define (accumulate-iterative combiner null-value term a next b)\n",
    "  (define (iter a result)\n",
    "    (if (> a b)\n",
    "        result\n",
    "        (iter (next a) (combiner (term a) result))))\n",
    "  (iter a null-value))\n",
    "\n",
    "(define accumulate accumulate-iterative)"
   ]
  },
  {
   "cell_type": "code",
   "execution_count": 16,
   "metadata": {},
   "outputs": [],
   "source": [
    "(define (sum-acc term a next b)\n",
    "  (accumulate + 0 term a next b))\n",
    "(define (product-acc term a next b)\n",
    "  (accumulate * 1 term a next b))"
   ]
  },
  {
   "cell_type": "markdown",
   "metadata": {},
   "source": [
    "### Exercise 1.33\n",
    "write filtered-accumulate"
   ]
  },
  {
   "cell_type": "code",
   "execution_count": 17,
   "metadata": {},
   "outputs": [],
   "source": [
    "(define (filtered-accumulate combiner null-value term a next b filter)\n",
    "  (define (iter a result)\n",
    "    (cond ((> a b) result)\n",
    "          ((filter a) (iter (next a) (combiner (term a) result)))\n",
    "          (else (iter (next a) result))))\n",
    "  (iter a null-value))"
   ]
  },
  {
   "cell_type": "code",
   "execution_count": 18,
   "metadata": {},
   "outputs": [],
   "source": [
    "(define (even x)\n",
    "  (= (% x 2) 0))"
   ]
  },
  {
   "cell_type": "code",
   "execution_count": 19,
   "metadata": {},
   "outputs": [],
   "source": [
    "(define (sum-even a b)\n",
    "  (filtered-accumulate + 0 identity a inc b even))"
   ]
  },
  {
   "cell_type": "code",
   "execution_count": 20,
   "metadata": {},
   "outputs": [
    {
     "data": {
      "text/plain": [
       "6"
      ]
     },
     "execution_count": 20,
     "metadata": {},
     "output_type": "execute_result"
    }
   ],
   "source": [
    "(sum-even 1 4)"
   ]
  },
  {
   "cell_type": "markdown",
   "metadata": {},
   "source": [
    "## 1.3.2 Constructing Procedures Using *lambda*"
   ]
  },
  {
   "cell_type": "markdown",
   "metadata": {},
   "source": [
    "### Exercise 1.34\n",
    "``` scheme\n",
    "(define (f g) (g 2))\n",
    "```\n",
    "When call `(f f)`, it evaluates `(f 2)` and it evaluated as `(2 2)`.\n",
    "It throws an error because 2 is not a procedure."
   ]
  },
  {
   "cell_type": "markdown",
   "metadata": {},
   "source": [
    "# 1.3.3 Producers as General Methods"
   ]
  },
  {
   "cell_type": "code",
   "execution_count": 12,
   "metadata": {},
   "outputs": [],
   "source": [
    "(define (close-enough? x y) (< (abs (- x y)) 0.001))\n",
    "(define (negative? x) (< x 0))\n",
    "(define (positive? x) (> x 0))\n",
    "(define (average x y) (/ (+ x y) 2))"
   ]
  },
  {
   "cell_type": "code",
   "execution_count": 22,
   "metadata": {},
   "outputs": [],
   "source": [
    "(define (search f neg-point pos-point)\n",
    "  (let ((midpoint (average neg-point pos-point)))\n",
    "    (if (close-enough? neg-point pos-point)\n",
    "        midpoint\n",
    "        (let ((test-value (f midpoint)))\n",
    "          (cond ((positive? test-value)\n",
    "                 (search f neg-point midpoint))\n",
    "                ((negative? test-value)\n",
    "                 (search f midpoint pos-point))\n",
    "                (else midpoint))))))"
   ]
  },
  {
   "cell_type": "code",
   "execution_count": 23,
   "metadata": {},
   "outputs": [],
   "source": [
    "(define (half-interval-method f a b)\n",
    "  (let ((a-value (f a))\n",
    "        (b-value (f b)))\n",
    "    (cond ((and (negative? a-value) (positive? b-value))\n",
    "           (search f a b))\n",
    "          ((and (positive? a-value) (negative? b-value))\n",
    "           (search f b a))\n",
    "          (else (error \"Values are not of opposite sign\" a b)))))"
   ]
  },
  {
   "cell_type": "code",
   "execution_count": 24,
   "metadata": {},
   "outputs": [
    {
     "data": {
      "text/plain": [
       "1.89306640625"
      ]
     },
     "execution_count": 24,
     "metadata": {},
     "output_type": "execute_result"
    }
   ],
   "source": [
    "(half-interval-method (lambda (x) (- (* x x x) (* 2 x) 3)) 1.0 2.0)"
   ]
  },
  {
   "cell_type": "markdown",
   "metadata": {},
   "source": [
    "## Fixed points of functions"
   ]
  },
  {
   "cell_type": "code",
   "execution_count": 32,
   "metadata": {},
   "outputs": [],
   "source": [
    "(define tolerance 0.00001)\n",
    "(define (fixed-point f first-guess)\n",
    "    (define (close-enough? v1 v2) (< (abs (- v1 v2)) tolerance))\n",
    "    (define (try guess)\n",
    "      (let ((next (f guess)))\n",
    "        (if (close-enough? guess next)\n",
    "            next\n",
    "            (try next))))\n",
    "  (try first-guess))"
   ]
  },
  {
   "cell_type": "code",
   "execution_count": 33,
   "metadata": {},
   "outputs": [],
   "source": [
    "(define (sq x)\n",
    "  (fixed-point (lambda (y) (average y (/ x y))) 1.0))"
   ]
  },
  {
   "cell_type": "code",
   "execution_count": 34,
   "metadata": {},
   "outputs": [
    {
     "data": {
      "text/plain": [
       "1.0"
      ]
     },
     "execution_count": 34,
     "metadata": {},
     "output_type": "execute_result"
    }
   ],
   "source": [
    "(sq 4)"
   ]
  },
  {
   "cell_type": "code",
   "execution_count": null,
   "metadata": {},
   "outputs": [],
   "source": []
  }
 ],
 "metadata": {
  "kernelspec": {
   "display_name": "Calysto Scheme 3",
   "language": "scheme",
   "name": "calysto_scheme"
  },
  "language_info": {
   "codemirror_mode": {
    "name": "scheme"
   },
   "mimetype": "text/x-scheme",
   "name": "scheme",
   "pygments_lexer": "scheme"
  }
 },
 "nbformat": 4,
 "nbformat_minor": 2
}
